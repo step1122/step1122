{
 "cells": [
  {
   "cell_type": "markdown",
   "id": "10578d8b",
   "metadata": {},
   "source": [
    "# 1.라이브러리 불러오기"
   ]
  },
  {
   "cell_type": "code",
   "execution_count": 1,
   "id": "349cae6b",
   "metadata": {},
   "outputs": [
    {
     "name": "stdout",
     "output_type": "stream",
     "text": [
      "WARNING:tensorflow:From C:\\Users\\user\\anaconda3\\lib\\site-packages\\tensorflow\\python\\compat\\v2_compat.py:96: disable_resource_variables (from tensorflow.python.ops.variable_scope) is deprecated and will be removed in a future version.\n",
      "Instructions for updating:\n",
      "non-resource variables are not supported in the long term\n"
     ]
    }
   ],
   "source": [
    "import tensorflow as tf\n",
    "import matplotlib.pyplot as plt\n",
    "import numpy as np\n",
    "import cv2\n",
    "import tensorflow.compat.v1 as tf\n",
    "tf.disable_v2_behavior()\n",
    "\n",
    "\n",
    "import random\n",
    "import datetime"
   ]
  },
  {
   "cell_type": "markdown",
   "id": "c4901152",
   "metadata": {},
   "source": [
    "# 2. 데이터 불러오기"
   ]
  },
  {
   "cell_type": "code",
   "execution_count": 2,
   "id": "4dc413af",
   "metadata": {},
   "outputs": [],
   "source": [
    "train_list = []\n",
    "\n",
    "with open('train.txt') as f:\n",
    "     for line in f:\n",
    "        tmp = line.strip().split()\n",
    "        #[0] = jpg 파일 이름\n",
    "        # [1] = 인덱스 \n",
    "        train_list.append([tmp[0],tmp[1]])"
   ]
  },
  {
   "cell_type": "code",
   "execution_count": 3,
   "id": "c9aa9d39",
   "metadata": {},
   "outputs": [
    {
     "name": "stdout",
     "output_type": "stream",
     "text": [
      "train\\0.png\n",
      "0\n",
      "train\\1.png\n",
      "1\n",
      "train\\2.png\n",
      "2\n"
     ]
    }
   ],
   "source": [
    "print(train_list[0][0])   # 파일 경로\n",
    "print(train_list[0][1])   # 레이블\n",
    "print(train_list[1][0])   # 파일 경로\n",
    "print(train_list[1][1])   # 레이블\n",
    "print(train_list[2][0])   # 파일 경로\n",
    "print(train_list[2][1])   # 레이블"
   ]
  },
  {
   "cell_type": "code",
   "execution_count": 4,
   "id": "13aa43be",
   "metadata": {},
   "outputs": [],
   "source": [
    "img_size = 28\n",
    "\n",
    "def readimg(path):\n",
    "    img = cv2.imread(path, cv2.IMREAD_GRAYSCALE)\n",
    "    #img = img.resize((img_size,img_size))\n",
    "    img = cv2.resize(img, dsize=(img_size,img_size), interpolation=cv2.INTER_AREA)\n",
    "    img = img.astype('float32') /255\n",
    "    #img = np.reshape(img, [-1,10000])\n",
    "    img = np.reshape(img, [img_size*img_size])\n",
    "    \n",
    "    \n",
    "    return img"
   ]
  },
  {
   "cell_type": "code",
   "execution_count": 5,
   "id": "829df8c1",
   "metadata": {
    "scrolled": true
   },
   "outputs": [
    {
     "data": {
      "text/plain": [
       "array([0.        , 0.        , 0.6313726 , 0.9411765 , 0.30980393,\n",
       "       0.28627452, 0.19607843, 0.01568628, 0.        , 0.        ,\n",
       "       0.        , 0.        , 0.        , 0.        , 0.5372549 ,\n",
       "       0.8666667 , 0.        , 0.        , 0.        , 0.        ,\n",
       "       0.        , 0.07058824, 0.40784314, 0.9490196 , 0.7647059 ,\n",
       "       0.00392157, 0.        , 0.        , 0.        , 0.02352941,\n",
       "       0.7019608 , 1.        , 1.        , 1.        , 1.        ,\n",
       "       0.9607843 , 0.7137255 , 0.47058824, 0.30980393, 0.39607844,\n",
       "       0.65882355, 0.8117647 , 0.99607843, 0.99607843, 0.78039217,\n",
       "       0.5803922 , 0.3137255 , 0.3137255 , 0.6666667 , 0.9647059 ,\n",
       "       1.        , 1.        , 1.        , 0.62352943, 0.01176471,\n",
       "       0.        , 0.        , 0.5058824 , 1.        , 1.        ,\n",
       "       1.        , 1.        , 1.        , 1.        , 1.        ,\n",
       "       1.        , 1.        , 1.        , 1.        , 1.        ,\n",
       "       1.        , 1.        , 1.        , 1.        , 1.        ,\n",
       "       1.        , 1.        , 1.        , 0.8901961 , 0.83137256,\n",
       "       1.        , 1.        , 0.4509804 , 0.        , 0.04313726,\n",
       "       0.9372549 , 1.        , 0.8784314 , 0.34901962, 0.24705882,\n",
       "       0.2784314 , 0.4862745 , 0.8156863 , 1.        , 1.        ,\n",
       "       1.        , 1.        , 1.        , 1.        , 1.        ,\n",
       "       1.        , 1.        , 1.        , 1.        , 0.7254902 ,\n",
       "       0.26666668, 0.02352941, 0.01176471, 0.5529412 , 1.        ,\n",
       "       0.8627451 , 0.01568628, 0.1882353 , 1.        , 1.        ,\n",
       "       0.33333334, 0.        , 0.        , 0.        , 0.        ,\n",
       "       0.01568628, 0.7764706 , 1.        , 0.84705883, 0.5529412 ,\n",
       "       0.22745098, 0.09803922, 0.10196079, 0.32156864, 0.7058824 ,\n",
       "       1.        , 0.96862745, 0.01960784, 0.        , 0.        ,\n",
       "       0.        , 0.07843138, 0.9607843 , 1.        , 0.21176471,\n",
       "       0.3529412 , 1.        , 1.        , 0.09019608, 0.        ,\n",
       "       0.        , 0.        , 0.        , 0.09019608, 0.99215686,\n",
       "       0.8745098 , 0.04313726, 0.        , 0.        , 0.        ,\n",
       "       0.        , 0.        , 0.00392157, 0.7372549 , 0.99607843,\n",
       "       0.23921569, 0.        , 0.        , 0.        , 0.00392157,\n",
       "       0.8392157 , 1.        , 0.32156864, 0.3137255 , 1.        ,\n",
       "       1.        , 0.09019608, 0.        , 0.        , 0.        ,\n",
       "       0.        , 0.3529412 , 1.        , 0.54901963, 0.        ,\n",
       "       0.        , 0.        , 0.        , 0.        , 0.        ,\n",
       "       0.        , 0.34117648, 1.        , 0.627451  , 0.        ,\n",
       "       0.        , 0.        , 0.        , 0.8039216 , 1.        ,\n",
       "       0.34901962, 0.34117648, 1.        , 1.        , 0.09019608,\n",
       "       0.        , 0.        , 0.        , 0.        , 0.6313726 ,\n",
       "       1.        , 0.24313726, 0.        , 0.        , 0.        ,\n",
       "       0.        , 0.        , 0.        , 0.        , 0.07450981,\n",
       "       0.92156863, 0.9607843 , 0.08627451, 0.        , 0.        ,\n",
       "       0.        , 0.80784315, 1.        , 0.33333334, 0.6156863 ,\n",
       "       1.        , 1.        , 0.13725491, 0.        , 0.        ,\n",
       "       0.        , 0.12156863, 0.9098039 , 0.99607843, 0.23921569,\n",
       "       0.        , 0.        , 0.        , 0.        , 0.        ,\n",
       "       0.        , 0.        , 0.        , 0.5254902 , 1.        ,\n",
       "       0.7294118 , 0.16078432, 0.01960784, 0.        , 0.80784315,\n",
       "       1.        , 0.5411765 , 0.99215686, 1.        , 1.        ,\n",
       "       0.81960785, 0.5254902 , 0.46666667, 0.6       , 0.9411765 ,\n",
       "       1.        , 1.        , 0.99607843, 0.8352941 , 0.50980395,\n",
       "       0.13725491, 0.        , 0.        , 0.14901961, 0.38039216,\n",
       "       0.5411765 , 0.79607844, 1.        , 1.        , 1.        ,\n",
       "       0.89411765, 0.75686276, 0.9372549 , 1.        , 0.9529412 ,\n",
       "       1.        , 1.        , 1.        , 1.        , 1.        ,\n",
       "       1.        , 1.        , 1.        , 1.        , 1.        ,\n",
       "       1.        , 1.        , 1.        , 0.99215686, 0.83137256,\n",
       "       0.8980392 , 0.99607843, 1.        , 1.        , 1.        ,\n",
       "       1.        , 1.        , 1.        , 1.        , 1.        ,\n",
       "       1.        , 1.        , 1.        , 1.        , 1.        ,\n",
       "       1.        , 1.        , 1.        , 1.        , 1.        ,\n",
       "       0.85882354, 0.5764706 , 0.24705882, 0.20784314, 0.5058824 ,\n",
       "       0.9137255 , 1.        , 1.        , 1.        , 0.99607843,\n",
       "       0.85882354, 0.6901961 , 0.5058824 , 0.45490196, 0.69411767,\n",
       "       0.81960785, 0.9098039 , 0.99215686, 1.        , 1.        ,\n",
       "       1.        , 0.83137256, 0.45490196, 0.2       , 0.15686275,\n",
       "       0.15686275, 0.16078432, 0.14901961, 0.00392157, 0.        ,\n",
       "       0.        , 0.        , 0.        , 0.12941177, 0.9411765 ,\n",
       "       1.        , 0.5176471 , 0.16078432, 0.        , 0.        ,\n",
       "       0.        , 0.        , 0.        , 0.        , 0.01176471,\n",
       "       0.11372549, 0.15686275, 0.34901962, 0.53333336, 0.00392157,\n",
       "       0.        , 0.        , 0.        , 0.        , 0.        ,\n",
       "       0.        , 0.        , 0.        , 0.        , 0.        ,\n",
       "       0.        , 0.        , 0.91764706, 1.        , 0.19607843,\n",
       "       0.        , 0.        , 0.        , 0.        , 0.        ,\n",
       "       0.        , 0.        , 0.        , 0.        , 0.        ,\n",
       "       0.        , 0.14117648, 0.01568628, 0.        , 0.        ,\n",
       "       0.        , 0.        , 0.        , 0.        , 0.        ,\n",
       "       0.        , 0.        , 0.        , 0.        , 0.        ,\n",
       "       0.91764706, 1.        , 0.2       , 0.        , 0.        ,\n",
       "       0.        , 0.        , 0.        , 0.        , 0.        ,\n",
       "       0.        , 0.        , 0.        , 0.        , 0.14117648,\n",
       "       0.8666667 , 0.5921569 , 0.23529412, 0.15686275, 0.15686275,\n",
       "       0.17254902, 0.15686275, 0.02745098, 0.        , 0.        ,\n",
       "       0.        , 0.        , 0.14509805, 0.9607843 , 1.        ,\n",
       "       0.6156863 , 0.16862746, 0.02352941, 0.        , 0.        ,\n",
       "       0.        , 0.        , 0.01960784, 0.05882353, 0.15686275,\n",
       "       0.17254902, 0.41568628, 0.65882355, 1.        , 1.        ,\n",
       "       1.        , 1.        , 1.        , 1.        , 1.        ,\n",
       "       0.95686275, 0.6784314 , 0.34117648, 0.30588236, 0.57254905,\n",
       "       0.9490196 , 1.        , 1.        , 1.        , 1.        ,\n",
       "       0.95686275, 0.78431374, 0.58431375, 0.5803922 , 0.80784315,\n",
       "       0.9372549 , 0.9882353 , 1.        , 1.        , 1.        ,\n",
       "       1.        , 1.        , 1.        , 1.        , 1.        ,\n",
       "       1.        , 1.        , 1.        , 1.        , 1.        ,\n",
       "       1.        , 1.        , 1.        , 1.        , 0.9764706 ,\n",
       "       0.8235294 , 0.8352941 , 0.99607843, 1.        , 1.        ,\n",
       "       1.        , 1.        , 1.        , 1.        , 1.        ,\n",
       "       1.        , 1.        , 1.        , 1.        , 0.972549  ,\n",
       "       1.        , 1.        , 0.78431374, 0.5019608 , 0.30980393,\n",
       "       0.5647059 , 0.9137255 , 1.        , 1.        , 0.96862745,\n",
       "       0.79607844, 0.42352942, 0.09411765, 0.        , 0.        ,\n",
       "       0.1254902 , 0.24313726, 0.5019608 , 0.7372549 , 1.        ,\n",
       "       1.        , 0.96862745, 0.85490197, 0.72156864, 0.9098039 ,\n",
       "       1.        , 0.93333334, 0.58431375, 1.        , 1.        ,\n",
       "       0.10196079, 0.        , 0.        , 0.        , 0.09803922,\n",
       "       0.8862745 , 0.99607843, 0.1764706 , 0.        , 0.        ,\n",
       "       0.        , 0.        , 0.        , 0.        , 0.        ,\n",
       "       0.        , 0.54509807, 1.        , 0.6509804 , 0.09019608,\n",
       "       0.        , 0.        , 0.80784315, 1.        , 0.49411765,\n",
       "       0.34509805, 1.        , 1.        , 0.09019608, 0.        ,\n",
       "       0.        , 0.        , 0.        , 0.5921569 , 1.        ,\n",
       "       0.26666668, 0.        , 0.        , 0.        , 0.        ,\n",
       "       0.        , 0.        , 0.        , 0.07450981, 0.9411765 ,\n",
       "       0.9529412 , 0.06666667, 0.        , 0.        , 0.        ,\n",
       "       0.80784315, 1.        , 0.32941177, 0.31764707, 1.        ,\n",
       "       1.        , 0.09019608, 0.        , 0.        , 0.        ,\n",
       "       0.        , 0.34901962, 1.        , 0.5686275 , 0.        ,\n",
       "       0.        , 0.        , 0.        , 0.        , 0.        ,\n",
       "       0.        , 0.3764706 , 1.        , 0.5803922 , 0.        ,\n",
       "       0.        , 0.        , 0.        , 0.80784315, 1.        ,\n",
       "       0.33333334, 0.31764707, 1.        , 1.        , 0.09019608,\n",
       "       0.        , 0.        , 0.        , 0.        , 0.0627451 ,\n",
       "       0.98039216, 0.8745098 , 0.07450981, 0.        , 0.        ,\n",
       "       0.        , 0.        , 0.        , 0.01176471, 0.78431374,\n",
       "       0.99215686, 0.2       , 0.        , 0.        , 0.        ,\n",
       "       0.00392157, 0.85490197, 1.        , 0.32156864, 0.16862746,\n",
       "       1.        , 1.        , 0.3647059 , 0.        , 0.        ,\n",
       "       0.        , 0.        , 0.02745098, 0.76862746, 1.        ,\n",
       "       0.9137255 , 0.61960787, 0.3019608 , 0.23921569, 0.23921569,\n",
       "       0.39215687, 0.7607843 , 1.        , 0.9764706 , 0.04313726,\n",
       "       0.        , 0.        , 0.        , 0.10588235, 0.96862745,\n",
       "       1.        , 0.20392157, 0.03921569, 0.8980392 , 1.        ,\n",
       "       0.9254902 , 0.47058824, 0.3882353 , 0.39215687, 0.5882353 ,\n",
       "       0.88235295, 1.        , 1.        , 1.        , 1.        ,\n",
       "       1.        , 1.        , 1.        , 1.        , 1.        ,\n",
       "       1.        , 1.        , 0.80784315, 0.34901962, 0.05098039,\n",
       "       0.01960784, 0.5921569 , 1.        , 0.8784314 , 0.03137255,\n",
       "       0.        , 0.42352942, 1.        , 1.        , 1.        ,\n",
       "       1.        , 1.        , 1.        , 1.        , 1.        ,\n",
       "       1.        , 1.        , 1.        , 1.        , 1.        ,\n",
       "       1.        , 1.        , 1.        , 1.        , 1.        ,\n",
       "       1.        , 1.        , 0.95686275, 0.90588236, 1.        ,\n",
       "       0.99607843, 0.37254903, 0.        , 0.        , 0.00784314,\n",
       "       0.67058825, 1.        , 1.        , 1.        , 1.        ,\n",
       "       0.8784314 , 0.63529414, 0.36078432, 0.16862746, 0.3137255 ,\n",
       "       0.5372549 , 0.74509805, 0.9882353 , 0.9843137 , 0.6862745 ,\n",
       "       0.45490196, 0.1882353 , 0.19607843, 0.56078434, 0.9019608 ,\n",
       "       1.        , 1.        , 0.99607843, 0.5176471 , 0.00392157,\n",
       "       0.        , 0.        , 0.        , 0.5686275 , 0.83137256,\n",
       "       0.18039216, 0.15686275, 0.14117648, 0.00392157, 0.        ,\n",
       "       0.        , 0.        , 0.        , 0.        , 0.        ,\n",
       "       0.44313726, 0.7294118 , 0.        , 0.        , 0.        ,\n",
       "       0.        , 0.        , 0.05490196, 0.29411766, 0.827451  ,\n",
       "       0.65882355, 0.        , 0.        , 0.        ], dtype=float32)"
      ]
     },
     "execution_count": 5,
     "metadata": {},
     "output_type": "execute_result"
    },
    {
     "data": {
      "image/png": "[encoded data removed]",
      "text/plain": [
       "<Figure size 432x288 with 1 Axes>"
      ]
     },
     "metadata": {
      "needs_background": "light"
     },
     "output_type": "display_data"
    }
   ],
   "source": [
    "img1 = readimg(train_list[3][0])\n",
    "#print(img1)\n",
    "plt.imshow(img1.reshape(img_size,img_size),cmap='gray')\n",
    "img1"
   ]
  },
  {
   "cell_type": "markdown",
   "id": "d6a89b2c",
   "metadata": {},
   "source": [
    "# 3. next_batch 함수정의"
   ]
  },
  {
   "cell_type": "code",
   "execution_count": 6,
   "id": "9213d455",
   "metadata": {},
   "outputs": [],
   "source": [
    "def batch1():\n",
    "    a = int(random.randint(0,len(train_list)-1))\n",
    "    img1 = [readimg(train_list[a][0])]\n",
    "    label1 = [a]\n",
    "    \n",
    "    for i in range(len(train_list)-1):\n",
    "        a = int(random.randint(0,len(train_list)-1))\n",
    "        \n",
    "        img1 = img1\n",
    "        img1 = np.concatenate([img1, [readimg(train_list[a][0])]])\n",
    "        \n",
    "        label1 = label1\n",
    "        label1 = np.concatenate([label1,[a]])\n",
    "    \n",
    "    return img1, label1"
   ]
  },
  {
   "cell_type": "code",
   "execution_count": 7,
   "id": "f9970b55",
   "metadata": {},
   "outputs": [],
   "source": [
    "def next_batch(train_list, batch_size):\n",
    "    img1 , label1 = batch1()\n",
    "    \n",
    "    a = np.array(label1)\n",
    "    label1 = np.zeros((a.size, len(train_list)))\n",
    "    label1[np.arange(a.size),a] = 1\n",
    "\n",
    "    \n",
    "    img2 = img1[:batch_size]\n",
    "    label2 = label1[:batch_size]    \n",
    "    \n",
    "    label2 = label2.astype('float32') \n",
    "    return img2, label2"
   ]
  },
  {
   "cell_type": "code",
   "execution_count": 8,
   "id": "667a44b9",
   "metadata": {},
   "outputs": [
    {
     "data": {
      "text/plain": [
       "array([[0., 0., 0., 0., 0., 0., 0., 0., 0., 0., 0., 0., 0., 0., 1., 0.,\n",
       "        0., 0., 0., 0., 0., 0., 0., 0.],\n",
       "       [0., 0., 0., 0., 0., 1., 0., 0., 0., 0., 0., 0., 0., 0., 0., 0.,\n",
       "        0., 0., 0., 0., 0., 0., 0., 0.]], dtype=float32)"
      ]
     },
     "execution_count": 8,
     "metadata": {},
     "output_type": "execute_result"
    }
   ],
   "source": [
    "batch_size = 2\n",
    "img2, label2 =next_batch(train_list, batch_size)\n",
    "label2"
   ]
  },
  {
   "cell_type": "markdown",
   "id": "e67c0ede",
   "metadata": {},
   "source": [
    "# next_batch 출력 확인\n",
    "\n",
    "batch_size = 12   # batch_size 조정 시 행, 열도 맞게 조절할 것\n",
    "rows = 3\n",
    "cols = 4\n",
    "axes=[]\n",
    "fig=plt.figure()\n",
    "\n",
    "for a in range(rows*cols):\n",
    "    b,c = next_batch(train_list, batch_size)   \n",
    "    b= b[a].reshape(img_size,img_size)\n",
    "    axes.append( fig.add_subplot(rows, cols, a+1) ) \n",
    "    print(c[a])\n",
    "    plt.imshow(b, cmap='gray')\n",
    "fig.tight_layout()    \n",
    "plt.show()"
   ]
  },
  {
   "cell_type": "markdown",
   "id": "0c69c272",
   "metadata": {},
   "source": [
    "# 4. 모델 정의"
   ]
  },
  {
   "cell_type": "code",
   "execution_count": 9,
   "id": "974d92b2",
   "metadata": {},
   "outputs": [],
   "source": [
    "n_D_input = img_size*img_size\n",
    "n_D_hidden = 256\n",
    "n_D_output = 1\n",
    "\n",
    "n_G_input = 128\n",
    "n_G_hidden = 256\n",
    "n_G_output = img_size*img_size\n",
    "\n",
    "n_label = 24 "
   ]
  },
  {
   "cell_type": "code",
   "execution_count": 10,
   "id": "b12f00e2",
   "metadata": {},
   "outputs": [],
   "source": [
    "weights = {\n",
    "    'G1' : tf.Variable(tf.random.normal([n_G_input + n_label, n_G_hidden], stddev = 0.01)),\n",
    "    'G2' : tf.Variable(tf.random.normal([n_G_hidden, n_G_output], stddev = 0.01)),\n",
    "    'D1' : tf.Variable(tf.random.normal([n_D_input + n_label, n_D_hidden], stddev = 0.01)),\n",
    "    'D2' : tf.Variable(tf.random.normal([n_D_hidden, n_D_output], stddev = 0.01))\n",
    "}\n",
    "\n",
    "biases = {   \n",
    "    'G1' : tf.Variable(tf.zeros([n_G_hidden])),\n",
    "    'G2' : tf.Variable(tf.zeros([n_G_output])),\n",
    "    'D1' : tf.Variable(tf.zeros([n_D_hidden])),\n",
    "    'D2' : tf.Variable(tf.zeros([n_D_output]))\n",
    "}\n",
    "\n",
    "z = tf.placeholder(tf.float32, [None, n_G_input])\n",
    "x = tf.placeholder(tf.float32, [None, n_D_input])\n",
    "c = tf.placeholder(tf.float32, [None, n_label])           # GAN에서 추가되는 것"
   ]
  },
  {
   "cell_type": "code",
   "execution_count": 11,
   "id": "0ea74492",
   "metadata": {},
   "outputs": [],
   "source": [
    "def generator(G_input, label, weights, biases):\n",
    "    hidden = tf.nn.relu(tf.matmul(tf.concat([G_input, label], 1), weights['G1']) + biases['G1'])    \n",
    "    output = tf.nn.sigmoid(tf.matmul(hidden, weights['G2']) + biases['G2'])\n",
    "    return output\n",
    "\n",
    "def discriminator(D_input, label, weights, biases):\n",
    "    hidden = tf.nn.relu(tf.matmul(tf.concat([D_input, label], 1), weights['D1']) + biases['D1'])\n",
    "    output = tf.nn.sigmoid(tf.matmul(hidden, weights['D2']) + biases['D2'])\n",
    "    return output\n",
    "\n",
    "def make_noise(batch_size, n_G_input):\n",
    "    return np.random.normal(size = (batch_size, n_G_input))"
   ]
  },
  {
   "cell_type": "markdown",
   "id": "a6d67514",
   "metadata": {},
   "source": [
    "n = make_noise(1,n_G_input)\n",
    "print(n.shape)\n",
    "print(n)"
   ]
  },
  {
   "cell_type": "code",
   "execution_count": null,
   "id": "3940cf04",
   "metadata": {},
   "outputs": [],
   "source": []
  },
  {
   "cell_type": "code",
   "execution_count": 12,
   "id": "e3853bde",
   "metadata": {},
   "outputs": [],
   "source": [
    "G_output = generator(z, c, weights, biases)\n",
    "D_fake = discriminator(G_output, c, weights, biases)\n",
    "D_real = discriminator(x, c, weights, biases)\n",
    "\n",
    "D_loss = tf.reduce_mean(-tf.log(D_real)-tf.log(1 - D_fake))\n",
    "G_loss = tf.reduce_mean(-tf.log(D_fake))\n",
    "\n",
    "D_var_list = [weights['D1'], biases['D1'], weights['D2'], biases['D2']]\n",
    "G_var_list = [weights['G1'], biases['G1'], weights['G2'], biases['G2']]\n",
    "\n",
    "LR = 0.0002\n",
    "D_optm = tf.train.AdamOptimizer(LR).minimize(D_loss, var_list = D_var_list)\n",
    "G_optm = tf.train.AdamOptimizer(LR).minimize(G_loss, var_list = G_var_list)"
   ]
  },
  {
   "cell_type": "code",
   "execution_count": 13,
   "id": "f3afd747",
   "metadata": {
    "scrolled": true
   },
   "outputs": [
    {
     "name": "stdout",
     "output_type": "stream",
     "text": [
      "Epoch: 0000 D_loss: 1.373 G_loss: 0.7125\n",
      "[[0. 0. 0. 0. 0. 0. 0. 0. 0. 0. 0. 0. 0. 0. 0. 1. 0. 0. 0. 0. 0. 0. 0. 0.]]\n"
     ]
    },
    {
     "data": {
      "image/png": "[encoded data removed]",
      "text/plain": [
       "<Figure size 360x360 with 1 Axes>"
      ]
     },
     "metadata": {
      "needs_background": "light"
     },
     "output_type": "display_data"
    },
    {
     "name": "stdout",
     "output_type": "stream",
     "text": [
      "Epoch: 1000 D_loss: 0.6855 G_loss: 1.446\n",
      "[[0. 0. 0. 0. 0. 0. 0. 0. 0. 1. 0. 0. 0. 0. 0. 0. 0. 0. 0. 0. 0. 0. 0. 0.]]\n"
     ]
    },
    {
     "data": {
      "image/png": "[encoded data removed]",
      "text/plain": [
       "<Figure size 360x360 with 1 Axes>"
      ]
     },
     "metadata": {
      "needs_background": "light"
     },
     "output_type": "display_data"
    },
    {
     "name": "stdout",
     "output_type": "stream",
     "text": [
      "Epoch: 2000 D_loss: 0.3715 G_loss: 1.599\n",
      "[[0. 0. 0. 0. 0. 0. 0. 0. 0. 0. 0. 0. 0. 0. 0. 0. 0. 0. 0. 0. 1. 0. 0. 0.]]\n"
     ]
    },
    {
     "data": {
      "image/png": "[encoded data removed]",
      "text/plain": [
       "<Figure size 360x360 with 1 Axes>"
      ]
     },
     "metadata": {
      "needs_background": "light"
     },
     "output_type": "display_data"
    },
    {
     "name": "stdout",
     "output_type": "stream",
     "text": [
      "Epoch: 3000 D_loss: 0.6244 G_loss: 2.103\n",
      "[[0. 0. 0. 0. 0. 0. 0. 0. 0. 0. 0. 0. 0. 0. 1. 0. 0. 0. 0. 0. 0. 0. 0. 0.]]\n"
     ]
    },
    {
     "data": {
      "image/png": "[encoded data removed]",
      "text/plain": [
       "<Figure size 360x360 with 1 Axes>"
      ]
     },
     "metadata": {
      "needs_background": "light"
     },
     "output_type": "display_data"
    },
    {
     "name": "stdout",
     "output_type": "stream",
     "text": [
      "Epoch: 4000 D_loss: 0.0963 G_loss: 3.804\n",
      "[[0. 1. 0. 0. 0. 0. 0. 0. 0. 0. 0. 0. 0. 0. 0. 0. 0. 0. 0. 0. 0. 0. 0. 0.]]\n"
     ]
    },
    {
     "data": {
      "image/png": "[encoded data removed]",
      "text/plain": [
       "<Figure size 360x360 with 1 Axes>"
      ]
     },
     "metadata": {
      "needs_background": "light"
     },
     "output_type": "display_data"
    },
    {
     "name": "stdout",
     "output_type": "stream",
     "text": [
      "처리시간 :  0:01:44.444708\n"
     ]
    }
   ],
   "source": [
    "start = datetime.datetime.now()\n",
    "\n",
    "total_epoch = 5000\n",
    "batch_size = 12\n",
    "#n_iter = int(len(train_list) / batch_size)\n",
    "n_prt = 1000\n",
    "\n",
    "sess = tf.Session()\n",
    "saver = tf.train.Saver(tf.global_variables())\n",
    "cpkt = tf.train.get_checkpoint_state('./CGAN_topoloy')\n",
    "if cpkt and tf.train.checkpoint_exists(cpkt.model_checkpoint_path):\n",
    "    saver.restore(sess, cpkt.model_checkpoint_path)\n",
    "    print(\"Load sess\")\n",
    "else:\n",
    "    sess.run(tf.global_variables_initializer())\n",
    "\n",
    "\n",
    "    D_loss_record = []\n",
    "    G_loss_record = []\n",
    "    for epoch in range(total_epoch):\n",
    "        (train_x, train_y) = next_batch(train_list,batch_size)\n",
    "        #train_x = np.array(train_x)\n",
    "        #train_y = np.array(train_y)\n",
    "        noise = make_noise(batch_size, n_G_input)\n",
    "\n",
    "        # discriminator and generator are separately trained \n",
    "        sess.run(D_optm, feed_dict = {x: train_x, z: noise, c: train_y})                 # Discriminator과 generator 각각 훈련\n",
    "        sess.run(G_optm, feed_dict = {z: noise, c: train_y})                             # 안성정 측면 각각 균형을 맞추는 것이 중요하여 각각 훈련\n",
    "\n",
    "        if epoch % n_prt == 0:\n",
    "            D_loss_val = sess.run(D_loss, feed_dict = {x: train_x, z: noise, c: train_y})\n",
    "            G_loss_val = sess.run(G_loss, feed_dict = {z: noise, c: train_y})\n",
    "            D_loss_record.append(D_loss_val)\n",
    "            G_loss_record.append(G_loss_val)\n",
    "        \n",
    "            print('Epoch:', '%04d' % epoch, 'D_loss: {:.4}'.format(D_loss_val), 'G_loss: {:.4}'.format(G_loss_val))\n",
    "            \n",
    "            plt.figure(figsize = (5,5))\n",
    "            noise = make_noise(1, n_G_input)\n",
    "          \n",
    "            _, train_y = next_batch(train_list, 1)\n",
    "           # train_y = np.array(train_y)\n",
    "            print(train_y)\n",
    "            G_img = sess.run(G_output, feed_dict = {z: noise, c: train_y})   \n",
    "            plt.imshow(G_img.reshape(28,28), 'gray')\n",
    "            plt.axis('off')\n",
    "            plt.show()\n",
    "            \n",
    "            \n",
    "            \n",
    "end = datetime.datetime.now()\n",
    "time = end - start\n",
    "print(\"처리시간 : \", time)"
   ]
  },
  {
   "cell_type": "code",
   "execution_count": 14,
   "id": "9e26c77e",
   "metadata": {},
   "outputs": [
    {
     "data": {
      "image/png": "[encoded data removed]",
      "text/plain": [
       "<Figure size 360x360 with 1 Axes>"
      ]
     },
     "metadata": {
      "needs_background": "light"
     },
     "output_type": "display_data"
    }
   ],
   "source": [
    "noise = make_noise(1, n_G_input)\n",
    "G_img = sess.run(G_output, feed_dict = {z: noise, c: [[1,0,0,0,0,0,0,0,0,0,0,0,0,0,0,0,0,0,0,0,0,0,0,0]]})\n",
    "\n",
    "plt.figure(figsize = (5,5))\n",
    "plt.imshow(G_img.reshape(img_size,img_size), 'gray')\n",
    "plt.axis('off')\n",
    "\n",
    "plt.show()"
   ]
  },
  {
   "cell_type": "code",
   "execution_count": null,
   "id": "b2ebec06",
   "metadata": {},
   "outputs": [],
   "source": []
  },
  {
   "cell_type": "code",
   "execution_count": null,
   "id": "855b8481",
   "metadata": {},
   "outputs": [],
   "source": []
  },
  {
   "cell_type": "code",
   "execution_count": null,
   "id": "a0993032",
   "metadata": {},
   "outputs": [],
   "source": []
  },
  {
   "cell_type": "code",
   "execution_count": null,
   "id": "3561043e",
   "metadata": {},
   "outputs": [],
   "source": []
  },
  {
   "cell_type": "code",
   "execution_count": null,
   "id": "62b2a5c0",
   "metadata": {},
   "outputs": [],
   "source": []
  },
  {
   "cell_type": "code",
   "execution_count": null,
   "id": "b500bdf1",
   "metadata": {},
   "outputs": [],
   "source": []
  }
 ],
 "metadata": {
  "kernelspec": {
   "display_name": "Python 3",
   "language": "python",
   "name": "python3"
  },
  "language_info": {
   "codemirror_mode": {
    "name": "ipython",
    "version": 3
   },
   "file_extension": ".py",
   "mimetype": "text/x-python",
   "name": "python",
   "nbconvert_exporter": "python",
   "pygments_lexer": "ipython3",
   "version": "3.8.8"
  }
 },
 "nbformat": 4,
 "nbformat_minor": 5
}
